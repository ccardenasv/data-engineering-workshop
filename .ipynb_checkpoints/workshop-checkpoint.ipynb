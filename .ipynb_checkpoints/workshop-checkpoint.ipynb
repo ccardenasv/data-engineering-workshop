{
 "cells": [
  {
   "cell_type": "markdown",
   "metadata": {},
   "source": [
    "# Data Engineering Workshop\n",
    "This notebook demonstrates:\n",
    "- Web Scraping with BeautifulSoup\n",
    "- Data Transformation with Pandas\n",
    "- Storing Data in SQLite\n"
   ]
  },
  {
   "cell_type": "code",
   "execution_count": 1,
   "metadata": {
    "vscode": {
     "languageId": "plaintext"
    }
   },
   "outputs": [
    {
     "name": "stdout",
     "output_type": "stream",
     "text": [
      "Webpage fetched successfully!\n"
     ]
    }
   ],
   "source": [
    "import requests\n",
    "from bs4 import BeautifulSoup\n",
    "\n",
    "url = \"https://finance.yahoo.com/quote/AAPL/history?p=AAPL\"\n",
    "\n",
    "# Add headers to mimic a real browser\n",
    "headers = {\n",
    "    \"User-Agent\": \"Mozilla/5.0 (Macintosh; Intel Mac OS X 10_15_7) AppleWebKit/537.36 (KHTML, like Gecko) Chrome/120.0.0.0 Safari/537.36\"\n",
    "}\n",
    "\n",
    "# Make the request with headers\n",
    "response = requests.get(url, headers=headers)\n",
    "\n",
    "# Check if the request was successful\n",
    "if response.status_code == 200:\n",
    "    soup = BeautifulSoup(response.text, \"html.parser\")\n",
    "    print(\"Webpage fetched successfully!\")\n",
    "else:\n",
    "    print(f\"Failed to fetch page. Status code: {response.status_code}\")\n"
   ]
  },
  {
   "cell_type": "code",
   "execution_count": 2,
   "metadata": {},
   "outputs": [
    {
     "name": "stdout",
     "output_type": "stream",
     "text": [
      "<!DOCTYPE html>\n",
      "<html class=\"desktop neo-green dock-upscale\" data-color-scheme=\"auto\" data-color-theme-enabled=\"true\" lang=\"en-US\" theme=\"auto\">\n",
      " <head>\n",
      "  <meta charset=\"utf-8\"/>\n",
      "  <meta content=\"guce.yahoo.com\" name=\"oath:guce:consent-host\"/>\n",
      "  <link crossorigin=\"anonymous\" href=\"//s.yimg.com\" rel=\"preconnect\"/>\n",
      "  <link href=\"//geo.yahoo.com\" rel=\"preconnect\">\n",
      "   <link href=\"//query1.finance.yahoo.com\" rel=\"preconnect\"/>\n",
      "   <link href=\"//query2.finance.yahoo.com\" rel=\"preconnect\"/>\n",
      "   <link hre\n"
     ]
    }
   ],
   "source": [
    "print(soup.prettify()[:500])"
   ]
  },
  {
   "cell_type": "code",
   "execution_count": 3,
   "metadata": {},
   "outputs": [
    {
     "name": "stdout",
     "output_type": "stream",
     "text": [
      "[['Mar 13, 2025', '210.22'], ['Mar 12, 2025', '216.98'], ['Mar 11, 2025', '220.84'], ['Mar 10, 2025', '227.48'], ['Mar 7, 2025', '239.07'], ['Mar 6, 2025', '235.33'], ['Mar 5, 2025', '235.74'], ['Mar 4, 2025', '235.93'], ['Mar 3, 2025', '238.03'], ['Feb 28, 2025', '241.84'], ['Feb 27, 2025', '237.30'], ['Feb 26, 2025', '240.36'], ['Feb 25, 2025', '247.04'], ['Feb 24, 2025', '247.10'], ['Feb 21, 2025', '245.55'], ['Feb 20, 2025', '245.83'], ['Feb 19, 2025', '244.87'], ['Feb 18, 2025', '244.47'], ['Feb 14, 2025', '244.60']]\n"
     ]
    }
   ],
   "source": [
    "# Find table rows containing historical stock data\n",
    "rows = soup.find_all(\"tr\")[1:20]  # First 5 rows\n",
    "\n",
    "# Extract date and closing price\n",
    "data = []\n",
    "for row in rows:\n",
    "    cols = row.find_all(\"td\")\n",
    "    if len(cols) > 5:\n",
    "        date = cols[0].text\n",
    "        close_price = cols[4].text\n",
    "        data.append([date, close_price])\n",
    "\n",
    "# Print extracted data\n",
    "print(data)\n"
   ]
  },
  {
   "cell_type": "code",
   "execution_count": 4,
   "metadata": {},
   "outputs": [
    {
     "data": {
      "text/html": [
       "<div>\n",
       "<style scoped>\n",
       "    .dataframe tbody tr th:only-of-type {\n",
       "        vertical-align: middle;\n",
       "    }\n",
       "\n",
       "    .dataframe tbody tr th {\n",
       "        vertical-align: top;\n",
       "    }\n",
       "\n",
       "    .dataframe thead th {\n",
       "        text-align: right;\n",
       "    }\n",
       "</style>\n",
       "<table border=\"1\" class=\"dataframe\">\n",
       "  <thead>\n",
       "    <tr style=\"text-align: right;\">\n",
       "      <th></th>\n",
       "      <th>Date</th>\n",
       "      <th>Close Price</th>\n",
       "    </tr>\n",
       "  </thead>\n",
       "  <tbody>\n",
       "    <tr>\n",
       "      <th>0</th>\n",
       "      <td>Mar 13, 2025</td>\n",
       "      <td>210.22</td>\n",
       "    </tr>\n",
       "    <tr>\n",
       "      <th>1</th>\n",
       "      <td>Mar 12, 2025</td>\n",
       "      <td>216.98</td>\n",
       "    </tr>\n",
       "    <tr>\n",
       "      <th>2</th>\n",
       "      <td>Mar 11, 2025</td>\n",
       "      <td>220.84</td>\n",
       "    </tr>\n",
       "    <tr>\n",
       "      <th>3</th>\n",
       "      <td>Mar 10, 2025</td>\n",
       "      <td>227.48</td>\n",
       "    </tr>\n",
       "    <tr>\n",
       "      <th>4</th>\n",
       "      <td>Mar 7, 2025</td>\n",
       "      <td>239.07</td>\n",
       "    </tr>\n",
       "  </tbody>\n",
       "</table>\n",
       "</div>"
      ],
      "text/plain": [
       "           Date Close Price\n",
       "0  Mar 13, 2025      210.22\n",
       "1  Mar 12, 2025      216.98\n",
       "2  Mar 11, 2025      220.84\n",
       "3  Mar 10, 2025      227.48\n",
       "4   Mar 7, 2025      239.07"
      ]
     },
     "execution_count": 4,
     "metadata": {},
     "output_type": "execute_result"
    }
   ],
   "source": [
    "import pandas as pd\n",
    "\n",
    "# Convert extracted data into a Pandas DataFrame\n",
    "df = pd.DataFrame(data, columns=[\"Date\", \"Close Price\"])\n",
    "\n",
    "# Show the DataFrame\n",
    "df.head()\n"
   ]
  },
  {
   "cell_type": "code",
   "execution_count": 5,
   "metadata": {},
   "outputs": [
    {
     "data": {
      "text/html": [
       "<div>\n",
       "<style scoped>\n",
       "    .dataframe tbody tr th:only-of-type {\n",
       "        vertical-align: middle;\n",
       "    }\n",
       "\n",
       "    .dataframe tbody tr th {\n",
       "        vertical-align: top;\n",
       "    }\n",
       "\n",
       "    .dataframe thead th {\n",
       "        text-align: right;\n",
       "    }\n",
       "</style>\n",
       "<table border=\"1\" class=\"dataframe\">\n",
       "  <thead>\n",
       "    <tr style=\"text-align: right;\">\n",
       "      <th></th>\n",
       "      <th>Date</th>\n",
       "      <th>Close Price</th>\n",
       "    </tr>\n",
       "  </thead>\n",
       "  <tbody>\n",
       "    <tr>\n",
       "      <th>0</th>\n",
       "      <td>2025-03-13</td>\n",
       "      <td>210.22</td>\n",
       "    </tr>\n",
       "    <tr>\n",
       "      <th>1</th>\n",
       "      <td>2025-03-12</td>\n",
       "      <td>216.98</td>\n",
       "    </tr>\n",
       "    <tr>\n",
       "      <th>2</th>\n",
       "      <td>2025-03-11</td>\n",
       "      <td>220.84</td>\n",
       "    </tr>\n",
       "    <tr>\n",
       "      <th>3</th>\n",
       "      <td>2025-03-10</td>\n",
       "      <td>227.48</td>\n",
       "    </tr>\n",
       "    <tr>\n",
       "      <th>4</th>\n",
       "      <td>2025-03-07</td>\n",
       "      <td>239.07</td>\n",
       "    </tr>\n",
       "  </tbody>\n",
       "</table>\n",
       "</div>"
      ],
      "text/plain": [
       "        Date  Close Price\n",
       "0 2025-03-13       210.22\n",
       "1 2025-03-12       216.98\n",
       "2 2025-03-11       220.84\n",
       "3 2025-03-10       227.48\n",
       "4 2025-03-07       239.07"
      ]
     },
     "execution_count": 5,
     "metadata": {},
     "output_type": "execute_result"
    }
   ],
   "source": [
    "# Convert Close Price column to float (remove commas)\n",
    "df[\"Close Price\"] = df[\"Close Price\"].str.replace(\",\", \"\").astype(float)\n",
    "\n",
    "# Convert Date column to proper date format\n",
    "df[\"Date\"] = pd.to_datetime(df[\"Date\"])\n",
    "\n",
    "# Display cleaned DataFrame\n",
    "df.head()\n"
   ]
  },
  {
   "cell_type": "code",
   "execution_count": 6,
   "metadata": {},
   "outputs": [
    {
     "name": "stdout",
     "output_type": "stream",
     "text": [
      "Data successfully stored in SQLite!\n"
     ]
    }
   ],
   "source": [
    "import sqlite3\n",
    "\n",
    "# Connect to SQLite database (or create one if it doesn't exist)\n",
    "conn = sqlite3.connect(\"stocks.db\")\n",
    "\n",
    "# Store DataFrame in the database\n",
    "df.to_sql(\"stock_prices\", conn, if_exists=\"replace\", index=False)\n",
    "\n",
    "# Confirm that data is stored\n",
    "print(\"Data successfully stored in SQLite!\")\n",
    "\n",
    "# Close the connection\n",
    "conn.close()\n"
   ]
  },
  {
   "cell_type": "code",
   "execution_count": 8,
   "metadata": {},
   "outputs": [
    {
     "data": {
      "text/html": [
       "<div>\n",
       "<style scoped>\n",
       "    .dataframe tbody tr th:only-of-type {\n",
       "        vertical-align: middle;\n",
       "    }\n",
       "\n",
       "    .dataframe tbody tr th {\n",
       "        vertical-align: top;\n",
       "    }\n",
       "\n",
       "    .dataframe thead th {\n",
       "        text-align: right;\n",
       "    }\n",
       "</style>\n",
       "<table border=\"1\" class=\"dataframe\">\n",
       "  <thead>\n",
       "    <tr style=\"text-align: right;\">\n",
       "      <th></th>\n",
       "      <th>Date</th>\n",
       "      <th>Close Price</th>\n",
       "    </tr>\n",
       "  </thead>\n",
       "  <tbody>\n",
       "    <tr>\n",
       "      <th>0</th>\n",
       "      <td>2025-03-13 00:00:00</td>\n",
       "      <td>210.22</td>\n",
       "    </tr>\n",
       "    <tr>\n",
       "      <th>1</th>\n",
       "      <td>2025-03-12 00:00:00</td>\n",
       "      <td>216.98</td>\n",
       "    </tr>\n",
       "    <tr>\n",
       "      <th>2</th>\n",
       "      <td>2025-03-11 00:00:00</td>\n",
       "      <td>220.84</td>\n",
       "    </tr>\n",
       "    <tr>\n",
       "      <th>3</th>\n",
       "      <td>2025-03-10 00:00:00</td>\n",
       "      <td>227.48</td>\n",
       "    </tr>\n",
       "    <tr>\n",
       "      <th>4</th>\n",
       "      <td>2025-03-07 00:00:00</td>\n",
       "      <td>239.07</td>\n",
       "    </tr>\n",
       "    <tr>\n",
       "      <th>5</th>\n",
       "      <td>2025-03-06 00:00:00</td>\n",
       "      <td>235.33</td>\n",
       "    </tr>\n",
       "    <tr>\n",
       "      <th>6</th>\n",
       "      <td>2025-03-05 00:00:00</td>\n",
       "      <td>235.74</td>\n",
       "    </tr>\n",
       "    <tr>\n",
       "      <th>7</th>\n",
       "      <td>2025-03-04 00:00:00</td>\n",
       "      <td>235.93</td>\n",
       "    </tr>\n",
       "    <tr>\n",
       "      <th>8</th>\n",
       "      <td>2025-03-03 00:00:00</td>\n",
       "      <td>238.03</td>\n",
       "    </tr>\n",
       "    <tr>\n",
       "      <th>9</th>\n",
       "      <td>2025-02-28 00:00:00</td>\n",
       "      <td>241.84</td>\n",
       "    </tr>\n",
       "  </tbody>\n",
       "</table>\n",
       "</div>"
      ],
      "text/plain": [
       "                  Date  Close Price\n",
       "0  2025-03-13 00:00:00       210.22\n",
       "1  2025-03-12 00:00:00       216.98\n",
       "2  2025-03-11 00:00:00       220.84\n",
       "3  2025-03-10 00:00:00       227.48\n",
       "4  2025-03-07 00:00:00       239.07\n",
       "5  2025-03-06 00:00:00       235.33\n",
       "6  2025-03-05 00:00:00       235.74\n",
       "7  2025-03-04 00:00:00       235.93\n",
       "8  2025-03-03 00:00:00       238.03\n",
       "9  2025-02-28 00:00:00       241.84"
      ]
     },
     "execution_count": 8,
     "metadata": {},
     "output_type": "execute_result"
    }
   ],
   "source": [
    "# Reconnect to the database\n",
    "conn = sqlite3.connect(\"stocks.db\")\n",
    "\n",
    "# Read stored data\n",
    "df_sql = pd.read_sql(\"SELECT * FROM stock_prices\", conn)\n",
    "\n",
    "# Display stored data\n",
    "df_sql.head(10)\n"
   ]
  },
  {
   "cell_type": "code",
   "execution_count": null,
   "metadata": {},
   "outputs": [],
   "source": []
  }
 ],
 "metadata": {
  "kernelspec": {
   "display_name": "Python 3 (ipykernel)",
   "language": "python",
   "name": "python3"
  },
  "language_info": {
   "codemirror_mode": {
    "name": "ipython",
    "version": 3
   },
   "file_extension": ".py",
   "mimetype": "text/x-python",
   "name": "python",
   "nbconvert_exporter": "python",
   "pygments_lexer": "ipython3",
   "version": "3.11.2"
  }
 },
 "nbformat": 4,
 "nbformat_minor": 4
}
